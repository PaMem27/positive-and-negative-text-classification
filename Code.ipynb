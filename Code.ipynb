{
 "cells": [
  {
   "attachments": {},
   "cell_type": "markdown",
   "metadata": {},
   "source": [
    "Parsa Memarzadeh"
   ]
  },
  {
   "attachments": {},
   "cell_type": "markdown",
   "metadata": {},
   "source": [
    "<b>import libraries"
   ]
  },
  {
   "cell_type": "code",
   "execution_count": 329,
   "metadata": {},
   "outputs": [],
   "source": [
    "import pandas as pd\n",
    "import re\n",
    "import string\n",
    "from nltk import word_tokenize\n",
    "from nltk import pos_tag\n",
    "from nltk.corpus import stopwords\n",
    "from nltk.stem import WordNetLemmatizer\n",
    "from sklearn.feature_extraction.text import CountVectorizer, TfidfTransformer,TfidfVectorizer\n",
    "from sklearn.naive_bayes import GaussianNB\n",
    "from sklearn.model_selection import train_test_split\n",
    "from sklearn.metrics import accuracy_score\n",
    "from sklearn.preprocessing import StandardScaler\n",
    "stopWords1 = set(stopwords.words('english') + list(string.punctuation) + ['--','br','``','\\'\\''])\n",
    "digits = ['1','2','0','3','4','5','6','7','8','9']"
   ]
  },
  {
   "attachments": {},
   "cell_type": "markdown",
   "metadata": {},
   "source": [
    "<b>Read data"
   ]
  },
  {
   "cell_type": "code",
   "execution_count": 330,
   "metadata": {},
   "outputs": [],
   "source": [
    "# df = pd.read_csv('IMDB_Dataset.csv')\n",
    "# PositiveDf = df[df['sentiment']=='positive'].sample(n=50)\n",
    "# NegativeDf = df[df['sentiment']=='negative'].sample(n=50)\n",
    "# PositiveDf.to_csv('PositiveDf.csv')\n",
    "# NegativeDf.to_csv('NegativeDf.csv')\n",
    "PositiveDf = pd.read_csv('PositiveDf.csv')\n",
    "NegativeDf = pd.read_csv('NegativeDf.csv')"
   ]
  },
  {
   "attachments": {},
   "cell_type": "markdown",
   "metadata": {},
   "source": [
    "<b>string to lowercase form  and Remove punctuations"
   ]
  },
  {
   "cell_type": "code",
   "execution_count": 331,
   "metadata": {},
   "outputs": [],
   "source": [
    "PositiveDf['review'] = PositiveDf['review'].str.lower()\n",
    "NegativeDf['review'] = NegativeDf['review'].str.lower()\n",
    "NegativeDf['review'] = NegativeDf['review'].str.translate(str.maketrans('', '', string.punctuation))\n",
    "PositiveDf['review'] = PositiveDf['review'].str.translate(str.maketrans('', '', string.punctuation))\n"
   ]
  },
  {
   "attachments": {},
   "cell_type": "markdown",
   "metadata": {},
   "source": [
    "<b>Tokenization and Remove stop words"
   ]
  },
  {
   "cell_type": "code",
   "execution_count": 332,
   "metadata": {},
   "outputs": [],
   "source": [
    "NegativeDf['review'] = NegativeDf['review'].apply(word_tokenize)\n",
    "NegativeDf['review'] = NegativeDf['review'].apply(lambda x: [i for i in x if i not in stopWords1])\n",
    "PositiveDf['review'] = PositiveDf['review'].apply(word_tokenize)\n",
    "PositiveDf['review'] = PositiveDf['review'].apply(lambda x: [i for i in x if i not in stopWords1])"
   ]
  },
  {
   "attachments": {},
   "cell_type": "markdown",
   "metadata": {},
   "source": [
    "<b>Normalization"
   ]
  },
  {
   "cell_type": "code",
   "execution_count": 333,
   "metadata": {},
   "outputs": [],
   "source": [
    "\n",
    "a = []\n",
    "b = []\n",
    "for i in PositiveDf['review']:\n",
    "    for j in i:\n",
    "       b.append(WordNetLemmatizer().lemmatize(j,pos='v'))\n",
    "    a.append(b)\n",
    "    b = []\n",
    "PositiveDf['review'] = a\n",
    "a = []\n",
    "b = []\n",
    "for i in NegativeDf['review']:\n",
    "    for j in i:\n",
    "       b.append(WordNetLemmatizer().lemmatize(j,pos='v'))\n",
    "    a.append(b)\n",
    "    b = []\n",
    "NegativeDf['review'] = a\n",
    "\n"
   ]
  },
  {
   "attachments": {},
   "cell_type": "markdown",
   "metadata": {},
   "source": [
    "<b>POS tagging"
   ]
  },
  {
   "cell_type": "code",
   "execution_count": 334,
   "metadata": {},
   "outputs": [],
   "source": [
    "\n",
    "a = []\n",
    "b = []\n",
    "for i in PositiveDf['review']:\n",
    "    b = pos_tag(i)\n",
    "    a.append(b)\n",
    "    b = []\n",
    "PositiveDf['pos'] = a\n",
    "a = []\n",
    "b = []\n",
    "for i in NegativeDf['review']:\n",
    "    b = pos_tag(i)\n",
    "    a.append(b)\n",
    "    b = []\n",
    "NegativeDf['pos'] = a\n",
    "# PositiveDf.to_csv('PositiveDf.csv')\n",
    "# NegativeDf.to_csv('NegativeDf.csv')"
   ]
  },
  {
   "cell_type": "code",
   "execution_count": null,
   "metadata": {},
   "outputs": [],
   "source": []
  },
  {
   "attachments": {},
   "cell_type": "markdown",
   "metadata": {},
   "source": [
    "<b>Preapearing"
   ]
  },
  {
   "cell_type": "code",
   "execution_count": 335,
   "metadata": {},
   "outputs": [],
   "source": [
    "def has_numbers(inputString):\n",
    "    return any(char.isdigit() for char in inputString)\n",
    "ALL_v = []\n",
    "tfidf_vectorizer = TfidfVectorizer()\n",
    "all = []\n",
    "y = []\n",
    "for i in PositiveDf['review']:\n",
    "   li = []\n",
    "   for j in i:\n",
    "        if has_numbers(j)==False:\n",
    "            li.append(j)\n",
    "   all.append(li)\n",
    "   y.append(1)\n",
    "\n",
    "for i in NegativeDf['review']:\n",
    "       li = []\n",
    "       for j in i:\n",
    "        if has_numbers(j)==False:\n",
    "            li.append(j)\n",
    "       all.append(li)\n",
    "       y.append(0)\n",
    "all  = [' '.join(doc) for doc in all]\n",
    "tfidf_matrix = tfidf_vectorizer.fit_transform(all)\n",
    "\n"
   ]
  },
  {
   "cell_type": "code",
   "execution_count": 336,
   "metadata": {},
   "outputs": [],
   "source": [
    "x = pd.DataFrame(tfidf_matrix.toarray())\n",
    "x.columns = tfidf_vectorizer.get_feature_names()\n",
    "xt = x.values"
   ]
  },
  {
   "cell_type": "code",
   "execution_count": 337,
   "metadata": {},
   "outputs": [
    {
     "name": "stdout",
     "output_type": "stream",
     "text": [
      "0.7\n"
     ]
    }
   ],
   "source": [
    "X_train, X_test, y_train, y_test =train_test_split(xt,y,test_size= 0.2, random_state=42)\n",
    "sc_X = StandardScaler() \n",
    "X_train = sc_X.fit_transform(X_train)\n",
    "X_test = sc_X.fit_transform(X_test)\n",
    "classifer = GaussianNB()\n",
    "classifer.fit(X_train, y_train)\n",
    "y_pred = classifer.predict(X_test)\n",
    "print(accuracy_score(y_pred, y_test))"
   ]
  }
 ],
 "metadata": {
  "kernelspec": {
   "display_name": "Python 3",
   "language": "python",
   "name": "python3"
  },
  "language_info": {
   "codemirror_mode": {
    "name": "ipython",
    "version": 3
   },
   "file_extension": ".py",
   "mimetype": "text/x-python",
   "name": "python",
   "nbconvert_exporter": "python",
   "pygments_lexer": "ipython3",
   "version": "3.9.6"
  },
  "orig_nbformat": 4,
  "vscode": {
   "interpreter": {
    "hash": "fc92dbe50645c2a0f0815161adfa607b251e3baf7875355af39ab3336211cbff"
   }
  }
 },
 "nbformat": 4,
 "nbformat_minor": 2
}
